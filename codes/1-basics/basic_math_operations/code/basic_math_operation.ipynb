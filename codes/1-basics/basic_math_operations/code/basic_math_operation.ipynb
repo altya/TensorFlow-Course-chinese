{
 "cells": [
  {
   "cell_type": "code",
   "execution_count": 1,
   "metadata": {
    "collapsed": true
   },
   "outputs": [],
   "source": [
    "#####################################################\n",
    "########## Welcome to TensorFlow World ##############\n",
    "#####################################################\n",
    "\n",
    "# The tutorials in this section is just a start for math operations.\n",
    "# The TensorFlow flags are used for having a more user friendly environment.\n",
    "\n",
    "from __future__ import print_function\n",
    "import tensorflow as tf\n",
    "import os"
   ]
  },
  {
   "cell_type": "code",
   "execution_count": 2,
   "metadata": {
    "collapsed": true
   },
   "outputs": [],
   "source": [
    "# Defining some constant values\n",
    "a = tf.constant(5.0, name=\"a\")\n",
    "b = tf.constant(10.0, name=\"b\")"
   ]
  },
  {
   "cell_type": "code",
   "execution_count": 3,
   "metadata": {
    "collapsed": true
   },
   "outputs": [],
   "source": [
    "# Some basic operations\n",
    "x = tf.add(a, b, name=\"add\")\n",
    "y = tf.div(a, b, name=\"divide\")"
   ]
  },
  {
   "cell_type": "code",
   "execution_count": 4,
   "metadata": {
    "collapsed": false
   },
   "outputs": [
    {
     "name": "stdout",
     "output_type": "stream",
     "text": [
      "a = 5.0\n",
      "b = 10.0\n",
      "a + b = 15.0\n",
      "a/b = 0.5\n"
     ]
    }
   ],
   "source": [
    "# Run the session\n",
    "with tf.Session() as sess:\n",
    "    print(\"a =\", sess.run(a))\n",
    "    print(\"b =\", sess.run(b))\n",
    "    print(\"a + b =\", sess.run(x))\n",
    "    print(\"a/b =\", sess.run(y))"
   ]
  },
  {
   "cell_type": "code",
   "execution_count": 5,
   "metadata": {
    "collapsed": true
   },
   "outputs": [],
   "source": [
    "# Closing the session.\n",
    "sess.close()"
   ]
  },
  {
   "cell_type": "code",
   "execution_count": null,
   "metadata": {
    "collapsed": true
   },
   "outputs": [],
   "source": []
  }
 ],
 "metadata": {
  "kernelspec": {
   "display_name": "Python 2",
   "language": "python",
   "name": "python2"
  },
  "language_info": {
   "codemirror_mode": {
    "name": "ipython",
    "version": 2
   },
   "file_extension": ".py",
   "mimetype": "text/x-python",
   "name": "python",
   "nbconvert_exporter": "python",
   "pygments_lexer": "ipython2",
   "version": "2.7.13"
  }
 },
 "nbformat": 4,
 "nbformat_minor": 2
}
